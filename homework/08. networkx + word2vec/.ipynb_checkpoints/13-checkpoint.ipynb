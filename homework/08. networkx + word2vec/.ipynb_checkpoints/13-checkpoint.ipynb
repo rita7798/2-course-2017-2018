{
 "cells": [
  {
   "cell_type": "code",
   "execution_count": 4,
   "metadata": {},
   "outputs": [],
   "source": [
    "import random"
   ]
  },
  {
   "cell_type": "code",
   "execution_count": 7,
   "metadata": {},
   "outputs": [],
   "source": [
    "class Markov(object):\n",
    "\n",
    "    def __init__(self, order):\n",
    "        self.order = order\n",
    "        self.group_size = self.order + 1\n",
    "        self.text = None\n",
    "        self.graph = {}\n",
    "        return\n",
    "\n",
    "\n",
    "    def train(self, filename):\n",
    "        self.text = filename.read().split()\n",
    "        self.text = self.text + self.text[:self.order]\n",
    "\n",
    "        for i in range (0, len(self.text) - self.group_size):\n",
    "            key = tuple(self.text[i:i + self.order])\n",
    "            value = self.text[i + self.order]\n",
    "\n",
    "        if key in self.graph:\n",
    "            self.graph[key].append(value)\n",
    "        else:\n",
    "            self.graph[key] = [value]\n",
    "\n",
    "\n",
    "    def generate(self, lenght):\n",
    "        index = random.randint(0, len(self.text) - self.order)\n",
    "        result = self.text[index : index + self.order]\n",
    "\n",
    "        for i in range (lenght):\n",
    "            state = tuple(result[len(result) - self.order:])\n",
    "            next_word = random.choice(self.graph[state])\n",
    "            result.append(next_word)\n",
    "\n",
    "        return \"\".join(result[self.order:])"
   ]
  },
  {
   "cell_type": "code",
   "execution_count": 8,
   "metadata": {},
   "outputs": [
    {
     "ename": "FileNotFoundError",
     "evalue": "[Errno 2] No such file or directory: '13reasons.txt'",
     "output_type": "error",
     "traceback": [
      "\u001b[0;31m---------------------------------------------------------------------------\u001b[0m",
      "\u001b[0;31mFileNotFoundError\u001b[0m                         Traceback (most recent call last)",
      "\u001b[0;32m<ipython-input-8-eefa4b09fd69>\u001b[0m in \u001b[0;36m<module>\u001b[0;34m()\u001b[0m\n\u001b[1;32m      1\u001b[0m \u001b[0mx\u001b[0m \u001b[0;34m=\u001b[0m \u001b[0mMarkov\u001b[0m\u001b[0;34m(\u001b[0m\u001b[0;36m2\u001b[0m\u001b[0;34m)\u001b[0m\u001b[0;34m\u001b[0m\u001b[0m\n\u001b[1;32m      2\u001b[0m \u001b[0;34m\u001b[0m\u001b[0m\n\u001b[0;32m----> 3\u001b[0;31m \u001b[0mfile\u001b[0m \u001b[0;34m=\u001b[0m \u001b[0mopen\u001b[0m\u001b[0;34m(\u001b[0m\u001b[0;34m\"13reasons.txt\"\u001b[0m\u001b[0;34m,\u001b[0m \u001b[0;34m\"r\"\u001b[0m\u001b[0;34m)\u001b[0m\u001b[0;34m\u001b[0m\u001b[0m\n\u001b[0m\u001b[1;32m      4\u001b[0m \u001b[0mfilename\u001b[0m \u001b[0;34m=\u001b[0m \u001b[0mfile\u001b[0m\u001b[0;34m\u001b[0m\u001b[0m\n\u001b[1;32m      5\u001b[0m \u001b[0;34m\u001b[0m\u001b[0m\n",
      "\u001b[0;31mFileNotFoundError\u001b[0m: [Errno 2] No such file or directory: '13reasons.txt'"
     ]
    }
   ],
   "source": [
    "x = Markov(2)\n",
    "\n",
    "file = open(\"13reasons.txt\", \"r\")\n",
    "filename = file\n",
    "\n",
    "\n",
    "x.train(filename)\n",
    "print(x.generate(10))"
   ]
  },
  {
   "cell_type": "code",
   "execution_count": null,
   "metadata": {},
   "outputs": [],
   "source": []
  }
 ],
 "metadata": {
  "kernelspec": {
   "display_name": "Python 3",
   "language": "python",
   "name": "python3"
  },
  "language_info": {
   "codemirror_mode": {
    "name": "ipython",
    "version": 3
   },
   "file_extension": ".py",
   "mimetype": "text/x-python",
   "name": "python",
   "nbconvert_exporter": "python",
   "pygments_lexer": "ipython3",
   "version": "3.6.4"
  }
 },
 "nbformat": 4,
 "nbformat_minor": 2
}
