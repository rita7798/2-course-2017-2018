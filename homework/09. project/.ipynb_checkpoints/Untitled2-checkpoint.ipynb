{
 "cells": [
  {
   "cell_type": "markdown",
   "metadata": {},
   "source": [
    "Веб-сервис: На основе сценария сериала (13 reasons why) и марковской модели (например, как тут https://habrahabr.ru/post/88514/) программа генерирует предложения в ответ на реплику пользователя"
   ]
  },
  {
   "cell_type": "code",
   "execution_count": 38,
   "metadata": {},
   "outputs": [],
   "source": [
    "import re\n",
    "from random import uniform\n",
    "from collections import defaultdict\n",
    "\n",
    "alphabet = re.compile(u'[a-zA-Z0-9-]+|[.,:;?!]+')\n",
    "data = []\n",
    "\n",
    "\n",
    "def gen_lines(corpus):\n",
    "    with open ('13reasons.txt', 'r', encoding='utf8') as f:\n",
    "        for line in f.readlines():\n",
    "            data.append(line.lower())\n",
    "    return data\n",
    "            \n",
    "        \n",
    "def gen_tokens(data):\n",
    "    for line in data:\n",
    "        for token in alphabet.findall(line):\n",
    "            yield token\n",
    "\n",
    "            \n",
    "def gen_trigrams(tokens):\n",
    "    t0, t1 = '$', '$'\n",
    "    for t2 in tokens:\n",
    "        yield t0, t1, t2\n",
    "        if t2 in '.!?':\n",
    "            yield t1, t2, '$'\n",
    "            yield t2, '$','$'\n",
    "            t0, t1 = '$', '$'\n",
    "        else:\n",
    "            t0, t1 = t1, t2\n",
    "\n",
    "            \n",
    "def train(corpus):\n",
    "    data = gen_lines(corpus)\n",
    "    tokens = gen_tokens(data)\n",
    "    trigrams = gen_trigrams(tokens)\n",
    "\n",
    "    bi, tri = defaultdict(lambda: 0.0), defaultdict(lambda: 0.0)\n",
    "\n",
    "    for t0, t1, t2 in trigrams:\n",
    "        bi[t0, t1] += 1\n",
    "        tri[t0, t1, t2] += 1\n",
    "        \n",
    "    model = {}\n",
    "    for (t0, t1, t2), freq in tri.items():\n",
    "        if (t0, t1) in model:\n",
    "            model[t0, t1].append((t2, freq/bi[t0, t1]))\n",
    "        else:\n",
    "            model[t0, t1] = [(t2, freq/bi[t0, t1])]\n",
    "    return model\n",
    "\n",
    "\n",
    "def generate_sentence(model):\n",
    "    phrase = ''\n",
    "    t0, t1 = '$', '$'\n",
    "    while 1:\n",
    "        t0, t1 = t1, unirand(model[t0, t1])\n",
    "        if t1 == '$': break\n",
    "        if t1 in ('.!?,;:') or t0 == '$':\n",
    "            phrase += t1\n",
    "        else:\n",
    "            phrase += ' ' + t1\n",
    "    return phrase.capitalize()\n",
    "\n",
    "\n",
    "def unirand(seq):\n",
    "    sum_, freq_ = 0, 0\n",
    "    for item, freq in seq:\n",
    "        sum_ += freq\n",
    "    rnd = uniform(0, sum_)\n",
    "    for token, freq in seq:\n",
    "        freq_ += freq\n",
    "        if rnd < freq_:\n",
    "            return token\n",
    "\n",
    "        \n",
    "if __name__ == '__main__':\n",
    "    model = train('13reasons.txt')"
   ]
  },
  {
   "cell_type": "code",
   "execution_count": 43,
   "metadata": {},
   "outputs": [
    {
     "name": "stdout",
     "output_type": "stream",
     "text": [
      "meow\n"
     ]
    },
    {
     "data": {
      "text/plain": [
       "'Why would i go to the tapes, period.'"
      ]
     },
     "execution_count": 43,
     "metadata": {},
     "output_type": "execute_result"
    }
   ],
   "source": [
    "input(\"\")\n",
    "generate_sentence(model)"
   ]
  },
  {
   "cell_type": "code",
   "execution_count": null,
   "metadata": {},
   "outputs": [],
   "source": []
  }
 ],
 "metadata": {
  "kernelspec": {
   "display_name": "Python 3",
   "language": "python",
   "name": "python3"
  },
  "language_info": {
   "codemirror_mode": {
    "name": "ipython",
    "version": 3
   },
   "file_extension": ".py",
   "mimetype": "text/x-python",
   "name": "python",
   "nbconvert_exporter": "python",
   "pygments_lexer": "ipython3",
   "version": "3.6.4"
  }
 },
 "nbformat": 4,
 "nbformat_minor": 2
}
