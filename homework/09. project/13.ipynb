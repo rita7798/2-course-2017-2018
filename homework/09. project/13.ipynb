{
 "cells": [
  {
   "cell_type": "markdown",
   "metadata": {},
   "source": [
    "Веб-сервис: На основе сценария сериала (13 reasons why) и марковской модели программа генерирует предложения в ответ на реплику пользователя"
   ]
  },
  {
   "cell_type": "code",
   "execution_count": 155,
   "metadata": {},
   "outputs": [],
   "source": [
    "import re\n",
    "from random import uniform\n",
    "from collections import defaultdict\n",
    "import os.path"
   ]
  },
  {
   "cell_type": "code",
   "execution_count": 156,
   "metadata": {},
   "outputs": [],
   "source": [
    "alphabet = re.compile(u'[a-zA-Z0-9-]+|[.,:;?!\\']+')\n",
    "data = []\n",
    "\n",
    "\n",
    "def gen_lines(corpus):\n",
    "    with open ('13reasons.txt', 'r', encoding='utf8') as f:\n",
    "        for line in f.readlines():\n",
    "            data.append(line.lower())\n",
    "    return data"
   ]
  },
  {
   "cell_type": "code",
   "execution_count": 157,
   "metadata": {},
   "outputs": [],
   "source": [
    "def gen_tokens(data):\n",
    "    for line in data:\n",
    "        for token in alphabet.findall(line):\n",
    "            yield token"
   ]
  },
  {
   "cell_type": "code",
   "execution_count": 158,
   "metadata": {},
   "outputs": [],
   "source": [
    "def gen_trigrams(tokens):\n",
    "    t0, t1 = '$', '$'\n",
    "    for t2 in tokens:\n",
    "        yield t0, t1, t2\n",
    "        if t2 in '.!?':\n",
    "            yield t1, t2, '$'\n",
    "            yield t2, '$','$'\n",
    "            t0, t1 = '$', '$'\n",
    "        else:\n",
    "            t0, t1 = t1, t2"
   ]
  },
  {
   "cell_type": "code",
   "execution_count": 159,
   "metadata": {},
   "outputs": [],
   "source": [
    "def train(corpus):\n",
    "    data = gen_lines(corpus)\n",
    "    tokens = gen_tokens(data)\n",
    "    trigrams = gen_trigrams(tokens)\n",
    "    bi, tri = defaultdict(lambda: 0.0), defaultdict(lambda: 0.0)\n",
    "    for t0, t1, t2 in trigrams:\n",
    "        bi[t0, t1] += 1\n",
    "        tri[t0, t1, t2] += 1\n",
    "    model = {}\n",
    "    for (t0, t1, t2), freq in tri.items():\n",
    "        if (t0, t1) in model:\n",
    "            model[t0, t1].append((t2, freq/bi[t0, t1]))\n",
    "        else:\n",
    "            model[t0, t1] = [(t2, freq/bi[t0, t1])]\n",
    "    return model"
   ]
  },
  {
   "cell_type": "code",
   "execution_count": 177,
   "metadata": {},
   "outputs": [],
   "source": [
    "def generate_sentence(model, word_last):\n",
    "    phrase = ''\n",
    "    t0, t1 = '$', '$'\n",
    "    t0, t1 = t1, word_last\n",
    "    phrase += t1\n",
    "    while 1:\n",
    "        try:\n",
    "            t0, t1 = t1, unirand(model[t0, t1])\n",
    "        except:\n",
    "            return '.'\n",
    "        if t1 == '$':\n",
    "            break\n",
    "        if t1 in ('.!?,;:\\'') or t0 == '$':\n",
    "            phrase += t1\n",
    "        elif t0 in ('\\''):\n",
    "            phrase += t1\n",
    "        else:\n",
    "            phrase += ' ' + t1\n",
    "    phrase_ = get_names(phrase)\n",
    "    return phrase_"
   ]
  },
  {
   "cell_type": "code",
   "execution_count": 230,
   "metadata": {},
   "outputs": [],
   "source": [
    "def get_names(phrase):\n",
    "    names = ['Clay', 'Jensen', 'Hannah', 'Baker', 'Tony', 'Padilla', 'Jessica', 'Davis', 'Justin', 'Foley',\n",
    "             'Bryce', 'Walker', 'Alex', 'Standall', 'Zach', 'Dempsey', 'Tyler', 'Down', 'Lainie', 'Jensen',\n",
    "             'Kevin', 'Porter', 'Olivia', 'Baker', 'Andy', 'Baker', 'Matt', 'Jensen', 'Courtney', 'Crimsen',\n",
    "             'Marcus', 'Cole', 'Sheri', 'Holland', 'Ryan', 'Shaver', 'Skye', 'Miller', 'Montgomery', 'Jeff',\n",
    "             'Atkins', 'Gary', 'Bolan', 'Pam', 'Bradley', 'Caleb', 'Mackenzie', 'Jackie', 'Brad', 'Kat',\n",
    "             'Bill', 'Greg', 'Davis', 'Karen', 'Dempsey', 'Todd', 'Crimsen', 'Dennis', 'Vasquez', 'Barry',\n",
    "             'Walker', 'Nora', 'Walker', 'Carolyn', 'Standall', 'Chlöe', 'Rice', 'Sonya', 'Struhl', 'Scott',\n",
    "             'Reed', 'Nina', 'Jones', 'Rick', 'Wlodimierz']\n",
    "    for _word in phrase.split():\n",
    "        word = _word.strip('.!?,;:\\'').capitalize()\n",
    "        if word in names:\n",
    "            phrase = phrase.replace(_word, word)\n",
    "    return phrase"
   ]
  },
  {
   "cell_type": "code",
   "execution_count": 231,
   "metadata": {},
   "outputs": [],
   "source": [
    "def unirand(seq):\n",
    "    sum_, freq_ = 0, 0\n",
    "    for item, freq in seq:\n",
    "        sum_ += freq\n",
    "    rnd = uniform(0, sum_)\n",
    "    for token, freq in seq:\n",
    "        freq_ += freq\n",
    "        if rnd < freq_:\n",
    "            return token"
   ]
  },
  {
   "cell_type": "code",
   "execution_count": 247,
   "metadata": {},
   "outputs": [],
   "source": [
    "def answer():\n",
    "    s = str(input())\n",
    "    sent = s.strip('.!?,;:\\'\\\"\\/\\\\').split()\n",
    "    word_last = sent[len(sent)-1].lower()\n",
    "    s = \"— \" + s.capitalize()\n",
    "    model = train('13reasons.txt')\n",
    "    res = generate_sentence(model, word_last)\n",
    "    for word in res.split():\n",
    "        if word.isupper() == False:\n",
    "            res = res.capitalize()\n",
    "        break\n",
    "    if \"- \" not in res:\n",
    "        res = \"\\n— \" + res\n",
    "    else:\n",
    "        res = res.replace(\"- \", \"\\n— \")\n",
    "    print(s, res)"
   ]
  },
  {
   "cell_type": "code",
   "execution_count": 249,
   "metadata": {},
   "outputs": [
    {
     "name": "stdout",
     "output_type": "stream",
     "text": [
      "Who is Hannah?\n",
      "— Who is hannah? \n",
      "— Hannah's complicated, but that's very kind offer, but you didn't.\n"
     ]
    }
   ],
   "source": [
    "if __name__ == '__main__':\n",
    "    answer()"
   ]
  },
  {
   "cell_type": "code",
   "execution_count": null,
   "metadata": {},
   "outputs": [],
   "source": []
  }
 ],
 "metadata": {
  "kernelspec": {
   "display_name": "Python 3",
   "language": "python",
   "name": "python3"
  },
  "language_info": {
   "codemirror_mode": {
    "name": "ipython",
    "version": 3
   },
   "file_extension": ".py",
   "mimetype": "text/x-python",
   "name": "python",
   "nbconvert_exporter": "python",
   "pygments_lexer": "ipython3",
   "version": "3.6.4"
  }
 },
 "nbformat": 4,
 "nbformat_minor": 2
}
